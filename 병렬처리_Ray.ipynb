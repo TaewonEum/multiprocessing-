{
 "cells": [
  {
   "cell_type": "code",
   "execution_count": 1,
   "id": "778c8ee2-98d4-4dcf-95e7-b64875645f2a",
   "metadata": {},
   "outputs": [],
   "source": [
    "#Ray Library->DL/ML에서 사용"
   ]
  },
  {
   "cell_type": "code",
   "execution_count": 1,
   "id": "0bd9ca12-453d-4c4e-9f41-7d38fe8987ce",
   "metadata": {},
   "outputs": [],
   "source": [
    "import ray #ray Library import\n",
    "import datetime\n",
    "import time\n",
    "import os\n",
    "import numpy as np\n",
    "import psutil\n",
    "import sys"
   ]
  },
  {
   "cell_type": "code",
   "execution_count": 12,
   "id": "d3f26759-4db6-45dd-961b-8b2c772d7428",
   "metadata": {},
   "outputs": [
    {
     "name": "stdout",
     "output_type": "stream",
     "text": [
      "2.0.0\n"
     ]
    }
   ],
   "source": [
    "print(ray.__version__) #Ray version Check"
   ]
  },
  {
   "cell_type": "code",
   "execution_count": 3,
   "id": "f01f4e54-dbff-4b87-8c2c-ff3f83ef7011",
   "metadata": {},
   "outputs": [
    {
     "data": {
      "text/plain": [
       "'\\nRay정리\\n주요컨셉\\nTask와 Actor\\nTask는 remote함수 실행을 의미합니다\\nActor는 state를 저장하는 계산을 의미->즉 클래스의 의미\\n'"
      ]
     },
     "execution_count": 3,
     "metadata": {},
     "output_type": "execute_result"
    }
   ],
   "source": [
    "'''\n",
    "Ray정리\n",
    "주요컨셉\n",
    "Task와 Actor\n",
    "Task는 remote함수 실행을 의미합니다\n",
    "Actor는 state를 저장하는 계산을 의미->즉 클래스의 의미\n",
    "'''"
   ]
  },
  {
   "cell_type": "code",
   "execution_count": 6,
   "id": "ccdcfd53-9d01-428c-89f9-34b09210f012",
   "metadata": {},
   "outputs": [
    {
     "data": {
      "text/plain": [
       "8"
      ]
     },
     "execution_count": 6,
     "metadata": {},
     "output_type": "execute_result"
    }
   ],
   "source": [
    "num_logical_cpus=psutil.cpu_count()\n",
    "print(num_logical_cpus) #사용할 수 있는 CPU개수 확인"
   ]
  },
  {
   "cell_type": "code",
   "execution_count": 4,
   "id": "8c4f432d-b03a-423b-a29a-9a831159df38",
   "metadata": {},
   "outputs": [
    {
     "name": "stderr",
     "output_type": "stream",
     "text": [
      "2022-09-07 15:55:26,637\tINFO worker.py:1518 -- Started a local Ray instance.\n"
     ]
    },
    {
     "data": {
      "text/html": [
       "<div>\n",
       "    <div style=\"margin-left: 50px;display: flex;flex-direction: row;align-items: center\">\n",
       "        <h3 style=\"color: var(--jp-ui-font-color0)\">Ray</h3>\n",
       "        <svg version=\"1.1\" id=\"ray\" width=\"3em\" viewBox=\"0 0 144.5 144.6\" style=\"margin-left: 3em;margin-right: 3em\">\n",
       "            <g id=\"layer-1\">\n",
       "                <path fill=\"#00a2e9\" class=\"st0\" d=\"M97.3,77.2c-3.8-1.1-6.2,0.9-8.3,5.1c-3.5,6.8-9.9,9.9-17.4,9.6S58,88.1,54.8,81.2c-1.4-3-3-4-6.3-4.1\n",
       "                    c-5.6-0.1-9.9,0.1-13.1,6.4c-3.8,7.6-13.6,10.2-21.8,7.6C5.2,88.4-0.4,80.5,0,71.7c0.1-8.4,5.7-15.8,13.8-18.2\n",
       "                    c8.4-2.6,17.5,0.7,22.3,8c1.3,1.9,1.3,5.2,3.6,5.6c3.9,0.6,8,0.2,12,0.2c1.8,0,1.9-1.6,2.4-2.8c3.5-7.8,9.7-11.8,18-11.9\n",
       "                    c8.2-0.1,14.4,3.9,17.8,11.4c1.3,2.8,2.9,3.6,5.7,3.3c1-0.1,2,0.1,3,0c2.8-0.5,6.4,1.7,8.1-2.7s-2.3-5.5-4.1-7.5\n",
       "                    c-5.1-5.7-10.9-10.8-16.1-16.3C84,38,81.9,37.1,78,38.3C66.7,42,56.2,35.7,53,24.1C50.3,14,57.3,2.8,67.7,0.5\n",
       "                    C78.4-2,89,4.7,91.5,15.3c0.1,0.3,0.1,0.5,0.2,0.8c0.7,3.4,0.7,6.9-0.8,9.8c-1.7,3.2-0.8,5,1.5,7.2c6.7,6.5,13.3,13,19.8,19.7\n",
       "                    c1.8,1.8,3,2.1,5.5,1.2c9.1-3.4,17.9-0.6,23.4,7c4.8,6.9,4.6,16.1-0.4,22.9c-5.4,7.2-14.2,9.9-23.1,6.5c-2.3-0.9-3.5-0.6-5.1,1.1\n",
       "                    c-6.7,6.9-13.6,13.7-20.5,20.4c-1.8,1.8-2.5,3.2-1.4,5.9c3.5,8.7,0.3,18.6-7.7,23.6c-7.9,5-18.2,3.8-24.8-2.9\n",
       "                    c-6.4-6.4-7.4-16.2-2.5-24.3c4.9-7.8,14.5-11,23.1-7.8c3,1.1,4.7,0.5,6.9-1.7C91.7,98.4,98,92.3,104.2,86c1.6-1.6,4.1-2.7,2.6-6.2\n",
       "                    c-1.4-3.3-3.8-2.5-6.2-2.6C99.8,77.2,98.9,77.2,97.3,77.2z M72.1,29.7c5.5,0.1,9.9-4.3,10-9.8c0-0.1,0-0.2,0-0.3\n",
       "                    C81.8,14,77,9.8,71.5,10.2c-5,0.3-9,4.2-9.3,9.2c-0.2,5.5,4,10.1,9.5,10.3C71.8,29.7,72,29.7,72.1,29.7z M72.3,62.3\n",
       "                    c-5.4-0.1-9.9,4.2-10.1,9.7c0,0.2,0,0.3,0,0.5c0.2,5.4,4.5,9.7,9.9,10c5.1,0.1,9.9-4.7,10.1-9.8c0.2-5.5-4-10-9.5-10.3\n",
       "                    C72.6,62.3,72.4,62.3,72.3,62.3z M115,72.5c0.1,5.4,4.5,9.7,9.8,9.9c5.6-0.2,10-4.8,10-10.4c-0.2-5.4-4.6-9.7-10-9.7\n",
       "                    c-5.3-0.1-9.8,4.2-9.9,9.5C115,72.1,115,72.3,115,72.5z M19.5,62.3c-5.4,0.1-9.8,4.4-10,9.8c-0.1,5.1,5.2,10.4,10.2,10.3\n",
       "                    c5.6-0.2,10-4.9,9.8-10.5c-0.1-5.4-4.5-9.7-9.9-9.6C19.6,62.3,19.5,62.3,19.5,62.3z M71.8,134.6c5.9,0.2,10.3-3.9,10.4-9.6\n",
       "                    c0.5-5.5-3.6-10.4-9.1-10.8c-5.5-0.5-10.4,3.6-10.8,9.1c0,0.5,0,0.9,0,1.4c-0.2,5.3,4,9.8,9.3,10\n",
       "                    C71.6,134.6,71.7,134.6,71.8,134.6z\"/>\n",
       "            </g>\n",
       "        </svg>\n",
       "        <table>\n",
       "            <tr>\n",
       "                <td style=\"text-align: left\"><b>Python version:</b></td>\n",
       "                <td style=\"text-align: left\"><b>3.7.13</b></td>\n",
       "            </tr>\n",
       "            <tr>\n",
       "                <td style=\"text-align: left\"><b>Ray version:</b></td>\n",
       "                <td style=\"text-align: left\"><b> 2.0.0</b></td>\n",
       "            </tr>\n",
       "            \n",
       "        </table>\n",
       "    </div>\n",
       "</div>\n"
      ],
      "text/plain": [
       "RayContext(dashboard_url='', python_version='3.7.13', ray_version='2.0.0', ray_commit='cba26cc83f6b5b8a2ff166594a65cb74c0ec8740', address_info={'node_ip_address': '127.0.0.1', 'raylet_ip_address': '127.0.0.1', 'redis_address': None, 'object_store_address': 'tcp://127.0.0.1:56003', 'raylet_socket_name': 'tcp://127.0.0.1:61558', 'webui_url': '', 'session_dir': 'C:\\\\Users\\\\kwonc\\\\AppData\\\\Local\\\\Temp\\\\ray\\\\session_2022-09-07_15-55-24_446302_9600', 'metrics_export_port': 59092, 'gcs_address': '127.0.0.1:64580', 'address': '127.0.0.1:64580', 'dashboard_agent_listen_port': 52365, 'node_id': 'f28098d71b41855ace2bc045dcce63104c0fb7575312d1c89bd88e01'})"
      ]
     },
     "execution_count": 4,
     "metadata": {},
     "output_type": "execute_result"
    }
   ],
   "source": [
    "ray.init(num_cpus=8) #Ray 실행, 8개의 Cpu사용"
   ]
  },
  {
   "cell_type": "code",
   "execution_count": 7,
   "id": "e3a89f4b-ab6e-45d2-90a0-345698e1f9c4",
   "metadata": {},
   "outputs": [],
   "source": [
    "###########병렬처리 시작"
   ]
  },
  {
   "cell_type": "code",
   "execution_count": 13,
   "id": "586aa363-eb38-4291-9431-a2c948c1a449",
   "metadata": {},
   "outputs": [],
   "source": [
    " def print_current_datetime():\n",
    "      time.sleep(0.3)\n",
    "      current_datetime = datetime.datetime.now()\n",
    "      print(current_datetime)\n",
    "      return current_datetime"
   ]
  },
  {
   "cell_type": "code",
   "execution_count": 14,
   "id": "f5608b5e-a81e-49c9-afbd-8651ed381403",
   "metadata": {},
   "outputs": [
    {
     "name": "stdout",
     "output_type": "stream",
     "text": [
      "2022-09-07 16:26:03.439592\n"
     ]
    },
    {
     "data": {
      "text/plain": [
       "datetime.datetime(2022, 9, 7, 16, 26, 3, 439592)"
      ]
     },
     "execution_count": 14,
     "metadata": {},
     "output_type": "execute_result"
    }
   ],
   "source": [
    "print_current_datetime()"
   ]
  },
  {
   "cell_type": "code",
   "execution_count": 15,
   "id": "4aa31309-840f-4eff-b958-077f97f0405d",
   "metadata": {},
   "outputs": [],
   "source": [
    "#Ray task정의"
   ]
  },
  {
   "cell_type": "code",
   "execution_count": 17,
   "id": "5e98e47b-e221-4ad0-ab84-beb14938675d",
   "metadata": {},
   "outputs": [],
   "source": [
    "@ray.remote\n",
    "def print_current_datetime():\n",
    "      time.sleep(0.3)\n",
    "      current_datetime = datetime.datetime.now()\n",
    "      print(current_datetime)\n",
    "      return current_datetime"
   ]
  },
  {
   "cell_type": "code",
   "execution_count": 19,
   "id": "15642942-3236-49ae-ae30-93910908889e",
   "metadata": {},
   "outputs": [
    {
     "data": {
      "text/plain": [
       "ObjectRef(c8ef45ccd0112571ffffffffffffffffffffffff0100000001000000)"
      ]
     },
     "execution_count": 19,
     "metadata": {},
     "output_type": "execute_result"
    },
    {
     "name": "stdout",
     "output_type": "stream",
     "text": [
      "\u001b[2m\u001b[36m(print_current_datetime pid=14208)\u001b[0m 2022-09-07 16:27:25.605435\n"
     ]
    }
   ],
   "source": [
    "print_current_datetime.remote()"
   ]
  },
  {
   "cell_type": "code",
   "execution_count": 20,
   "id": "6c32aed4-684e-463e-bb79-3e459b1c60ae",
   "metadata": {},
   "outputs": [
    {
     "data": {
      "text/plain": [
       "datetime.datetime(2022, 9, 7, 16, 27, 41, 492614)"
      ]
     },
     "execution_count": 20,
     "metadata": {},
     "output_type": "execute_result"
    },
    {
     "name": "stdout",
     "output_type": "stream",
     "text": [
      "\u001b[2m\u001b[36m(print_current_datetime pid=14208)\u001b[0m 2022-09-07 16:27:41.492614\n"
     ]
    }
   ],
   "source": [
    "ray.get(print_current_datetime.remote()) #값 얻기"
   ]
  },
  {
   "cell_type": "code",
   "execution_count": 21,
   "id": "01d807bf-3852-408a-8f95-26f3ba7ca255",
   "metadata": {},
   "outputs": [],
   "source": [
    "#병렬처리X와 병렬처리O의 시간차이 알아보기"
   ]
  },
  {
   "cell_type": "code",
   "execution_count": 22,
   "id": "ab7dc6ca-d75b-4d6e-a41b-47729be3afbf",
   "metadata": {},
   "outputs": [],
   "source": [
    "def workfun(x):\n",
    "    print('work_func:',x,'PID:',os.getpid())\n",
    "    time.sleep(1)\n",
    "    return(x**2+3/98)"
   ]
  },
  {
   "cell_type": "code",
   "execution_count": 23,
   "id": "14530949-fa19-4f9a-ba83-7d99ac8f0acc",
   "metadata": {},
   "outputs": [],
   "source": [
    "def main():\n",
    "    start = int(time.time())\n",
    "    print(list(map(workfun,range(0,30))))\n",
    "    print('----run time(sec) :' , int(time.time())-start)"
   ]
  },
  {
   "cell_type": "code",
   "execution_count": 24,
   "id": "2178d61b-0eab-45cf-a619-fc3bbdd3c48a",
   "metadata": {
    "collapsed": true,
    "jupyter": {
     "outputs_hidden": true
    },
    "tags": []
   },
   "outputs": [
    {
     "name": "stdout",
     "output_type": "stream",
     "text": [
      "work_func: 0 PID: 9600\n",
      "work_func: 1 PID: 9600\n",
      "work_func: 2 PID: 9600\n",
      "work_func: 3 PID: 9600\n",
      "work_func: 4 PID: 9600\n",
      "work_func: 5 PID: 9600\n",
      "work_func: 6 PID: 9600\n",
      "work_func: 7 PID: 9600\n",
      "work_func: 8 PID: 9600\n",
      "work_func: 9 PID: 9600\n",
      "work_func: 10 PID: 9600\n",
      "work_func: 11 PID: 9600\n",
      "work_func: 12 PID: 9600\n",
      "work_func: 13 PID: 9600\n",
      "work_func: 14 PID: 9600\n",
      "work_func: 15 PID: 9600\n",
      "work_func: 16 PID: 9600\n",
      "work_func: 17 PID: 9600\n",
      "work_func: 18 PID: 9600\n",
      "work_func: 19 PID: 9600\n",
      "work_func: 20 PID: 9600\n",
      "work_func: 21 PID: 9600\n",
      "work_func: 22 PID: 9600\n",
      "work_func: 23 PID: 9600\n",
      "work_func: 24 PID: 9600\n",
      "work_func: 25 PID: 9600\n",
      "work_func: 26 PID: 9600\n",
      "work_func: 27 PID: 9600\n",
      "work_func: 28 PID: 9600\n",
      "work_func: 29 PID: 9600\n",
      "[0.030612244897959183, 1.030612244897959, 4.030612244897959, 9.03061224489796, 16.03061224489796, 25.03061224489796, 36.03061224489796, 49.03061224489796, 64.03061224489795, 81.03061224489795, 100.03061224489795, 121.03061224489795, 144.03061224489795, 169.03061224489795, 196.03061224489795, 225.03061224489795, 256.03061224489795, 289.03061224489795, 324.03061224489795, 361.03061224489795, 400.03061224489795, 441.03061224489795, 484.03061224489795, 529.030612244898, 576.030612244898, 625.030612244898, 676.030612244898, 729.030612244898, 784.030612244898, 841.030612244898]\n",
      "----run time(sec) : 30\n"
     ]
    }
   ],
   "source": [
    "main() #총 30초의 시간할애"
   ]
  },
  {
   "cell_type": "code",
   "execution_count": 27,
   "id": "dbf10723-7cb1-4288-b4e7-d5ff2961e7c7",
   "metadata": {},
   "outputs": [],
   "source": [
    "@ray.remote\n",
    "def workfun(x):\n",
    "    print('work_func:',x,'PID:',os.getpid())\n",
    "    time.sleep(1)\n",
    "    return(x**2+3/98)"
   ]
  },
  {
   "cell_type": "code",
   "execution_count": 32,
   "id": "b4ca38af-8563-4e91-801f-53cd825505be",
   "metadata": {},
   "outputs": [],
   "source": [
    "@ray.remote\n",
    "def main():\n",
    "    start = int(time.time())\n",
    "    print(list(map(workfun.remote,range(0,30))))\n",
    "    print('----run time(sec) :' , int(time.time())-start)"
   ]
  },
  {
   "cell_type": "code",
   "execution_count": 33,
   "id": "1dc7d783-07c3-420f-b6cd-51843cb7bec5",
   "metadata": {},
   "outputs": [
    {
     "data": {
      "text/plain": [
       "ObjectRef(f4402ec78d3a2607ffffffffffffffffffffffff0100000001000000)"
      ]
     },
     "execution_count": 33,
     "metadata": {},
     "output_type": "execute_result"
    },
    {
     "name": "stdout",
     "output_type": "stream",
     "text": [
      "\u001b[2m\u001b[36m(main pid=14208)\u001b[0m [ObjectRef(17f2b76b455887adffffffffffffffffffffffff0100000001000000), ObjectRef(37ae34bb096fa216ffffffffffffffffffffffff0100000001000000), ObjectRef(d71df143cc640608ffffffffffffffffffffffff0100000001000000), ObjectRef(7779587524eaf3eaffffffffffffffffffffffff0100000001000000), ObjectRef(9ae5c46f5a23883effffffffffffffffffffffff0100000001000000), ObjectRef(a97252ef922fe254ffffffffffffffffffffffff0100000001000000), ObjectRef(f9348ab88f731313ffffffffffffffffffffffff0100000001000000), ObjectRef(6b242d57c49463ccffffffffffffffffffffffff0100000001000000), ObjectRef(3336a8bc22ba4df9ffffffffffffffffffffffff0100000001000000), ObjectRef(18c93cceac614511ffffffffffffffffffffffff0100000001000000), ObjectRef(44d659d896fed8e3ffffffffffffffffffffffff0100000001000000), ObjectRef(330c31a80307fc4dffffffffffffffffffffffff0100000001000000), ObjectRef(becb2652f57d0f1effffffffffffffffffffffff0100000001000000), ObjectRef(c500cd4a96607d31ffffffffffffffffffffffff0100000001000000), ObjectRef(6c5b3c756bb45265ffffffffffffffffffffffff0100000001000000), ObjectRef(ed3bc63e96b6b6f1ffffffffffffffffffffffff0100000001000000), ObjectRef(5a80b1c857e66515ffffffffffffffffffffffff0100000001000000), ObjectRef(f3b0fd6ec2c1f281ffffffffffffffffffffffff0100000001000000), ObjectRef(938fdfbfd80e5bb3ffffffffffffffffffffffff0100000001000000), ObjectRef(b1c94c03cf608a9dffffffffffffffffffffffff0100000001000000), ObjectRef(3a817013924f21a6ffffffffffffffffffffffff0100000001000000), ObjectRef(535c969f9fdee0f9ffffffffffffffffffffffff0100000001000000), ObjectRef(895aade92a8ad79bffffffffffffffffffffffff0100000001000000), ObjectRef(c958852636fd5ebfffffffffffffffffffffffff0100000001000000), ObjectRef(a07e1b2f6d4427e2ffffffffffffffffffffffff0100000001000000), ObjectRef(f2d6422645abc323ffffffffffffffffffffffff0100000001000000), ObjectRef(09c82fb366ba54e5ffffffffffffffffffffffff0100000001000000), ObjectRef(81417b093bc257eeffffffffffffffffffffffff0100000001000000), ObjectRef(870a3008260c77c0ffffffffffffffffffffffff0100000001000000), ObjectRef(98eefc599d7b725effffffffffffffffffffffff0100000001000000)]\n",
      "\u001b[2m\u001b[36m(main pid=14208)\u001b[0m ----run time(sec) : 0\n",
      "\u001b[2m\u001b[36m(workfun pid=14208)\u001b[0m work_func: 7 PID: 14208\n",
      "\u001b[2m\u001b[36m(workfun pid=4276)\u001b[0m work_func: 4 PID: 4276\n",
      "\u001b[2m\u001b[36m(workfun pid=10320)\u001b[0m work_func: 5 PID: 10320\n",
      "\u001b[2m\u001b[36m(workfun pid=2956)\u001b[0m work_func: 3 PID: 2956\n",
      "\u001b[2m\u001b[36m(workfun pid=13704)\u001b[0m work_func: 6 PID: 13704\n",
      "\u001b[2m\u001b[36m(workfun pid=5184)\u001b[0m work_func: 2 PID: 5184\n",
      "\u001b[2m\u001b[36m(workfun pid=8488)\u001b[0m work_func: 1 PID: 8488\n",
      "\u001b[2m\u001b[36m(workfun pid=7236)\u001b[0m work_func: 0 PID: 7236\n",
      "\u001b[2m\u001b[36m(workfun pid=14208)\u001b[0m work_func: 11 PID: 14208\n",
      "\u001b[2m\u001b[36m(workfun pid=4276)\u001b[0m work_func: 9 PID: 4276\n",
      "\u001b[2m\u001b[36m(workfun pid=10320)\u001b[0m work_func: 14 PID: 10320\n",
      "\u001b[2m\u001b[36m(workfun pid=2956)\u001b[0m work_func: 10 PID: 2956\n",
      "\u001b[2m\u001b[36m(workfun pid=13704)\u001b[0m work_func: 13 PID: 13704\n",
      "\u001b[2m\u001b[36m(workfun pid=5184)\u001b[0m work_func: 12 PID: 5184\n",
      "\u001b[2m\u001b[36m(workfun pid=8488)\u001b[0m work_func: 15 PID: 8488\n",
      "\u001b[2m\u001b[36m(workfun pid=7236)\u001b[0m work_func: 8 PID: 7236\n",
      "\u001b[2m\u001b[36m(workfun pid=14208)\u001b[0m work_func: 20 PID: 14208\n",
      "\u001b[2m\u001b[36m(workfun pid=4276)\u001b[0m work_func: 16 PID: 4276\n",
      "\u001b[2m\u001b[36m(workfun pid=10320)\u001b[0m work_func: 17 PID: 10320\n",
      "\u001b[2m\u001b[36m(workfun pid=2956)\u001b[0m work_func: 18 PID: 2956\n",
      "\u001b[2m\u001b[36m(workfun pid=13704)\u001b[0m work_func: 22 PID: 13704\n",
      "\u001b[2m\u001b[36m(workfun pid=5184)\u001b[0m work_func: 19 PID: 5184\n",
      "\u001b[2m\u001b[36m(workfun pid=8488)\u001b[0m work_func: 23 PID: 8488\n",
      "\u001b[2m\u001b[36m(workfun pid=7236)\u001b[0m work_func: 21 PID: 7236\n",
      "\u001b[2m\u001b[36m(workfun pid=14208)\u001b[0m work_func: 25 PID: 14208\n",
      "\u001b[2m\u001b[36m(workfun pid=4276)\u001b[0m work_func: 28 PID: 4276\n",
      "\u001b[2m\u001b[36m(workfun pid=10320)\u001b[0m work_func: 24 PID: 10320\n",
      "\u001b[2m\u001b[36m(workfun pid=2956)\u001b[0m work_func: 26 PID: 2956\n",
      "\u001b[2m\u001b[36m(workfun pid=13704)\u001b[0m work_func: 29 PID: 13704\n",
      "\u001b[2m\u001b[36m(workfun pid=8488)\u001b[0m work_func: 27 PID: 8488\n"
     ]
    }
   ],
   "source": [
    "main.remote()"
   ]
  },
  {
   "cell_type": "code",
   "execution_count": 36,
   "id": "ce170500-e6c5-4c0b-813a-5eb6755e9e37",
   "metadata": {},
   "outputs": [
    {
     "name": "stdout",
     "output_type": "stream",
     "text": [
      "\u001b[2m\u001b[36m(workfun pid=14208)\u001b[0m work_func: 4 PID: 14208\n",
      "\u001b[2m\u001b[36m(workfun pid=4276)\u001b[0m work_func: 2 PID: 4276\n",
      "\u001b[2m\u001b[36m(workfun pid=10320)\u001b[0m work_func: 3 PID: 10320\n",
      "\u001b[2m\u001b[36m(workfun pid=2956)\u001b[0m work_func: 1 PID: 2956\n",
      "\u001b[2m\u001b[36m(workfun pid=13704)\u001b[0m work_func: 0 PID: 13704\n",
      "\u001b[2m\u001b[36m(main pid=5184)\u001b[0m [ObjectRef(de861c4272e4201effffffffffffffffffffffff0100000001000000), ObjectRef(b5a57015162769b3ffffffffffffffffffffffff0100000001000000), ObjectRef(5ce3875772611759ffffffffffffffffffffffff0100000001000000), ObjectRef(acaf88bbdd04ff55ffffffffffffffffffffffff0100000001000000), ObjectRef(6c51ab826dca23afffffffffffffffffffffffff0100000001000000), ObjectRef(f46bf9655729935bffffffffffffffffffffffff0100000001000000), ObjectRef(97fe9a2ca366e6bdffffffffffffffffffffffff0100000001000000), ObjectRef(1dc34d319075abe3ffffffffffffffffffffffff0100000001000000), ObjectRef(05eb2fc8e88b4589ffffffffffffffffffffffff0100000001000000), ObjectRef(b4e80e1cb9d0ce8bffffffffffffffffffffffff0100000001000000), ObjectRef(a65da3ebdc1e5d4cffffffffffffffffffffffff0100000001000000), ObjectRef(df0fd48dc855e8b8ffffffffffffffffffffffff0100000001000000), ObjectRef(15296a2d1dc2ec72ffffffffffffffffffffffff0100000001000000), ObjectRef(21ad80ea0777651effffffffffffffffffffffff0100000001000000), ObjectRef(43d35f82774fbaa2ffffffffffffffffffffffff0100000001000000), ObjectRef(d208e80c342937d0ffffffffffffffffffffffff0100000001000000), ObjectRef(ec7428f3133e75f1ffffffffffffffffffffffff0100000001000000), ObjectRef(92551bbeba7befc3ffffffffffffffffffffffff0100000001000000), ObjectRef(183528324872c824ffffffffffffffffffffffff0100000001000000), ObjectRef(e260742abf9c0e67ffffffffffffffffffffffff0100000001000000), ObjectRef(fc4d6ec9bd430adfffffffffffffffffffffffff0100000001000000), ObjectRef(c7dc3a6c3195d8f8ffffffffffffffffffffffff0100000001000000), ObjectRef(58edd473a176f7afffffffffffffffffffffffff0100000001000000), ObjectRef(b7b8d51d6a2c5206ffffffffffffffffffffffff0100000001000000), ObjectRef(6c0171500195b4eeffffffffffffffffffffffff0100000001000000), ObjectRef(aa790683ab392fdbffffffffffffffffffffffff0100000001000000), ObjectRef(dcca85be6facce82ffffffffffffffffffffffff0100000001000000), ObjectRef(079974046f559d91ffffffffffffffffffffffff0100000001000000), ObjectRef(dedda9044aec5f2affffffffffffffffffffffff0100000001000000), ObjectRef(5883676d6e120afdffffffffffffffffffffffff0100000001000000)]\n",
      "\u001b[2m\u001b[36m(main pid=5184)\u001b[0m ----run time(sec) : 0\n",
      "\u001b[2m\u001b[36m(workfun pid=5184)\u001b[0m work_func: 7 PID: 5184\n",
      "\u001b[2m\u001b[36m(workfun pid=8488)\u001b[0m work_func: 5 PID: 8488\n",
      "\u001b[2m\u001b[36m(workfun pid=7236)\u001b[0m work_func: 6 PID: 7236\n",
      "\u001b[2m\u001b[36m(workfun pid=14208)\u001b[0m work_func: 14 PID: 14208\n",
      "\u001b[2m\u001b[36m(workfun pid=4276)\u001b[0m work_func: 12 PID: 4276\n",
      "\u001b[2m\u001b[36m(workfun pid=10320)\u001b[0m work_func: 9 PID: 10320\n",
      "\u001b[2m\u001b[36m(workfun pid=2956)\u001b[0m work_func: 13 PID: 2956\n",
      "\u001b[2m\u001b[36m(workfun pid=13704)\u001b[0m work_func: 8 PID: 13704\n",
      "\u001b[2m\u001b[36m(workfun pid=5184)\u001b[0m work_func: 15 PID: 5184\n",
      "\u001b[2m\u001b[36m(workfun pid=8488)\u001b[0m work_func: 10 PID: 8488\n",
      "\u001b[2m\u001b[36m(workfun pid=7236)\u001b[0m work_func: 11 PID: 7236\n",
      "\u001b[2m\u001b[36m(workfun pid=14208)\u001b[0m work_func: 20 PID: 14208\n",
      "\u001b[2m\u001b[36m(workfun pid=4276)\u001b[0m work_func: 22 PID: 4276\n",
      "\u001b[2m\u001b[36m(workfun pid=10320)\u001b[0m work_func: 19 PID: 10320\n",
      "\u001b[2m\u001b[36m(workfun pid=2956)\u001b[0m work_func: 21 PID: 2956\n",
      "\u001b[2m\u001b[36m(workfun pid=13704)\u001b[0m work_func: 16 PID: 13704\n",
      "\u001b[2m\u001b[36m(workfun pid=5184)\u001b[0m work_func: 18 PID: 5184\n",
      "\u001b[2m\u001b[36m(workfun pid=8488)\u001b[0m work_func: 17 PID: 8488\n",
      "\u001b[2m\u001b[36m(workfun pid=7236)\u001b[0m work_func: 23 PID: 7236\n",
      "\u001b[2m\u001b[36m(workfun pid=14208)\u001b[0m work_func: 25 PID: 14208\n",
      "\u001b[2m\u001b[36m(workfun pid=4276)\u001b[0m work_func: 24 PID: 4276\n",
      "\u001b[2m\u001b[36m(workfun pid=2956)\u001b[0m work_func: 29 PID: 2956\n",
      "\u001b[2m\u001b[36m(workfun pid=13704)\u001b[0m work_func: 26 PID: 13704\n",
      "\u001b[2m\u001b[36m(workfun pid=5184)\u001b[0m work_func: 27 PID: 5184\n",
      "\u001b[2m\u001b[36m(workfun pid=8488)\u001b[0m work_func: 28 PID: 8488\n"
     ]
    }
   ],
   "source": [
    "ray.get(main.remote())"
   ]
  },
  {
   "cell_type": "code",
   "execution_count": null,
   "id": "83651dea-34a1-4e26-9d61-71eb571fec40",
   "metadata": {},
   "outputs": [],
   "source": []
  }
 ],
 "metadata": {
  "kernelspec": {
   "display_name": "Python 3 (ipykernel)",
   "language": "python",
   "name": "python3"
  },
  "language_info": {
   "codemirror_mode": {
    "name": "ipython",
    "version": 3
   },
   "file_extension": ".py",
   "mimetype": "text/x-python",
   "name": "python",
   "nbconvert_exporter": "python",
   "pygments_lexer": "ipython3",
   "version": "3.7.13"
  }
 },
 "nbformat": 4,
 "nbformat_minor": 5
}
